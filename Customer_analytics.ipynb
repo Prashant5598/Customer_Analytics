{
 "cells": [
  {
   "cell_type": "markdown",
   "id": "a09e6d54-bf3f-4632-b299-bd49d5c80d5f",
   "metadata": {},
   "source": [
    "![Two data scientists working on a dashboard.](hr-image-small.png)\n",
    "\n",
    "A common problem when creating models to generate business value from data is that the datasets can be so large that it can take days for the model to generate predictions. Ensuring that your dataset is stored as efficiently as possible is crucial for allowing these models to run on a more reasonable timescale without having to reduce the size of the dataset.\n",
    "\n",
    "We have been hired by a major online data science training provider called *Training Data Ltd.* to clean up one of their largest customer datasets. This dataset will eventually be used to predict whether their students are looking for a new job or not, information that they will then use to direct them to prospective recruiters.\n",
    "\n",
    "We have been given access to `customer_train.csv`, which is a subset of their entire customer dataset, so we can create a proof-of-concept of a much more efficient storage solution. The dataset contains anonymized student information, and whether they were looking for a new job or not during training:\n",
    "\n",
    "| Column       | Description                                  |\n",
    "|------------- |--------------------------------------------- |\n",
    "| `student_id`   | A unique ID for each student.                 |\n",
    "| `city`  | A code for the city the student lives in.  |\n",
    "| `city_development_index` | A scaled development index for the city.       |\n",
    "| `gender` | The student's gender.       |\n",
    "| `relevant_experience` | An indicator of the student's work relevant experience.       |\n",
    "| `enrolled_university` | The type of university course enrolled in (if any).       |\n",
    "| `education_level` | The student's education level.       |\n",
    "| `major_discipline` | The educational discipline of the student.       |\n",
    "| `experience` | The student's total work experience (in years).       |\n",
    "| `company_size` | The number of employees at the student's current employer.       |\n",
    "| `last_new_job` | The number of years between the student's current and previous jobs.       |\n",
    "| `training_hours` | The number of hours of training completed.       |\n",
    "| `job_change` | An indicator of whether the student is looking for a new job (`1`) or not (`0`).       |"
   ]
  },
  {
   "cell_type": "code",
   "execution_count": 21,
   "id": "7dacda55-041c-4985-87ee-af451dcd6d8c",
   "metadata": {
    "executionCancelledAt": null,
    "executionTime": 38,
    "lastExecutedAt": 1703481525229,
    "lastScheduledRunId": null,
    "lastSuccessfullyExecutedCode": "# Start your code here!\nimport pandas as pd\n# Load the dataset\nds_jobs = pd.read_csv(\"customer_train.csv\")\n\n# Copy the DataFrame for cleaning\nds_jobs_clean = ds_jobs.copy()",
    "outputsMetadata": {
     "0": {
      "height": 211,
      "type": "dataFrame"
     }
    }
   },
   "outputs": [
    {
     "data": {
      "text/html": [
       "<div>\n",
       "<style scoped>\n",
       "    .dataframe tbody tr th:only-of-type {\n",
       "        vertical-align: middle;\n",
       "    }\n",
       "\n",
       "    .dataframe tbody tr th {\n",
       "        vertical-align: top;\n",
       "    }\n",
       "\n",
       "    .dataframe thead th {\n",
       "        text-align: right;\n",
       "    }\n",
       "</style>\n",
       "<table border=\"1\" class=\"dataframe\">\n",
       "  <thead>\n",
       "    <tr style=\"text-align: right;\">\n",
       "      <th></th>\n",
       "      <th>student_id</th>\n",
       "      <th>city</th>\n",
       "      <th>city_development_index</th>\n",
       "      <th>gender</th>\n",
       "      <th>relevant_experience</th>\n",
       "      <th>enrolled_university</th>\n",
       "      <th>education_level</th>\n",
       "      <th>major_discipline</th>\n",
       "      <th>experience</th>\n",
       "      <th>company_size</th>\n",
       "      <th>company_type</th>\n",
       "      <th>last_new_job</th>\n",
       "      <th>training_hours</th>\n",
       "      <th>job_change</th>\n",
       "    </tr>\n",
       "  </thead>\n",
       "  <tbody>\n",
       "    <tr>\n",
       "      <th>0</th>\n",
       "      <td>8949</td>\n",
       "      <td>city_103</td>\n",
       "      <td>0.920</td>\n",
       "      <td>Male</td>\n",
       "      <td>Has relevant experience</td>\n",
       "      <td>no_enrollment</td>\n",
       "      <td>Graduate</td>\n",
       "      <td>STEM</td>\n",
       "      <td>&gt;20</td>\n",
       "      <td>NaN</td>\n",
       "      <td>NaN</td>\n",
       "      <td>1</td>\n",
       "      <td>36</td>\n",
       "      <td>1</td>\n",
       "    </tr>\n",
       "    <tr>\n",
       "      <th>1</th>\n",
       "      <td>29725</td>\n",
       "      <td>city_40</td>\n",
       "      <td>0.776</td>\n",
       "      <td>Male</td>\n",
       "      <td>No relevant experience</td>\n",
       "      <td>no_enrollment</td>\n",
       "      <td>Graduate</td>\n",
       "      <td>STEM</td>\n",
       "      <td>15</td>\n",
       "      <td>50-99</td>\n",
       "      <td>Pvt Ltd</td>\n",
       "      <td>&gt;4</td>\n",
       "      <td>47</td>\n",
       "      <td>0</td>\n",
       "    </tr>\n",
       "    <tr>\n",
       "      <th>2</th>\n",
       "      <td>11561</td>\n",
       "      <td>city_21</td>\n",
       "      <td>0.624</td>\n",
       "      <td>NaN</td>\n",
       "      <td>No relevant experience</td>\n",
       "      <td>Full time course</td>\n",
       "      <td>Graduate</td>\n",
       "      <td>STEM</td>\n",
       "      <td>5</td>\n",
       "      <td>NaN</td>\n",
       "      <td>NaN</td>\n",
       "      <td>never</td>\n",
       "      <td>83</td>\n",
       "      <td>0</td>\n",
       "    </tr>\n",
       "    <tr>\n",
       "      <th>3</th>\n",
       "      <td>33241</td>\n",
       "      <td>city_115</td>\n",
       "      <td>0.789</td>\n",
       "      <td>NaN</td>\n",
       "      <td>No relevant experience</td>\n",
       "      <td>NaN</td>\n",
       "      <td>Graduate</td>\n",
       "      <td>Business Degree</td>\n",
       "      <td>&lt;1</td>\n",
       "      <td>NaN</td>\n",
       "      <td>Pvt Ltd</td>\n",
       "      <td>never</td>\n",
       "      <td>52</td>\n",
       "      <td>1</td>\n",
       "    </tr>\n",
       "    <tr>\n",
       "      <th>4</th>\n",
       "      <td>666</td>\n",
       "      <td>city_162</td>\n",
       "      <td>0.767</td>\n",
       "      <td>Male</td>\n",
       "      <td>Has relevant experience</td>\n",
       "      <td>no_enrollment</td>\n",
       "      <td>Masters</td>\n",
       "      <td>STEM</td>\n",
       "      <td>&gt;20</td>\n",
       "      <td>50-99</td>\n",
       "      <td>Funded Startup</td>\n",
       "      <td>4</td>\n",
       "      <td>8</td>\n",
       "      <td>0</td>\n",
       "    </tr>\n",
       "  </tbody>\n",
       "</table>\n",
       "</div>"
      ],
      "text/plain": [
       "   student_id      city  city_development_index gender  \\\n",
       "0        8949  city_103                   0.920   Male   \n",
       "1       29725   city_40                   0.776   Male   \n",
       "2       11561   city_21                   0.624    NaN   \n",
       "3       33241  city_115                   0.789    NaN   \n",
       "4         666  city_162                   0.767   Male   \n",
       "\n",
       "       relevant_experience enrolled_university education_level  \\\n",
       "0  Has relevant experience       no_enrollment        Graduate   \n",
       "1   No relevant experience       no_enrollment        Graduate   \n",
       "2   No relevant experience    Full time course        Graduate   \n",
       "3   No relevant experience                 NaN        Graduate   \n",
       "4  Has relevant experience       no_enrollment         Masters   \n",
       "\n",
       "  major_discipline experience company_size    company_type last_new_job  \\\n",
       "0             STEM        >20          NaN             NaN            1   \n",
       "1             STEM         15        50-99         Pvt Ltd           >4   \n",
       "2             STEM          5          NaN             NaN        never   \n",
       "3  Business Degree         <1          NaN         Pvt Ltd        never   \n",
       "4             STEM        >20        50-99  Funded Startup            4   \n",
       "\n",
       "   training_hours  job_change  \n",
       "0              36           1  \n",
       "1              47           0  \n",
       "2              83           0  \n",
       "3              52           1  \n",
       "4               8           0  "
      ]
     },
     "execution_count": 21,
     "metadata": {},
     "output_type": "execute_result"
    }
   ],
   "source": [
    "import pandas as pd\n",
    "import matplotlib.pyplot as plt\n",
    "import seaborn as sns\n",
    "\n",
    "# Load the dataset\n",
    "ds_jobs = pd.read_csv(\"customer_train.csv\")\n",
    "\n",
    "# Copy the DataFrame for cleaning\n",
    "ds_jobs_clean = ds_jobs.copy()\n",
    "ds_jobs_clean.head()"
   ]
  },
  {
   "cell_type": "code",
   "execution_count": 22,
   "id": "e58af11e-0396-4c04-ae05-b5732742fb79",
   "metadata": {
    "executionCancelledAt": null,
    "executionTime": 49,
    "lastExecutedAt": 1703481525278,
    "lastScheduledRunId": null,
    "lastSuccessfullyExecutedCode": "# Create a dictionary of columns containing ordered categorical data\nordered_cats = {\n    'relevant_experience': ['No relevant experience', 'Has relevant experience'],\n    'enrolled_university': ['no_enrollment', 'Part time course', 'Full time course'],\n    'education_level': ['Primary School', 'High School', 'Graduate', 'Masters', 'Phd'],\n    'experience': ['<1'] + list(map(str, range(1, 21))) + ['>20'],\n    'company_size': ['<10', '10-49', '50-99', '100-499', '500-999', '1000-4999', '5000-9999', '10000+'],\n    'last_new_job': ['never', '1', '2', '3', '4', '>4']\n}"
   },
   "outputs": [],
   "source": [
    "# Create a dictionary of columns containing ordered categorical data\n",
    "ordered_cats = {\n",
    "    'relevant_experience': ['No relevant experience', 'Has relevant experience'],\n",
    "    'enrolled_university': ['no_enrollment', 'Part time course', 'Full time course'],\n",
    "    'education_level': ['Primary School', 'High School', 'Graduate', 'Masters', 'Phd'],\n",
    "    'experience': ['<1'] + list(map(str, range(1, 21))) + ['>20'],\n",
    "    'company_size': ['<10', '10-49', '50-99', '100-499', '500-999', '1000-4999', '5000-9999', '10000+'],\n",
    "    'last_new_job': ['never', '1', '2', '3', '4', '>4']\n",
    "}"
   ]
  },
  {
   "cell_type": "code",
   "execution_count": 23,
   "id": "122c098c-0716-4868-a6b6-479441a2a188",
   "metadata": {
    "executionCancelledAt": null,
    "executionTime": 51,
    "lastExecutedAt": 1703481525330,
    "lastScheduledRunId": null,
    "lastSuccessfullyExecutedCode": "# Loop through DataFrame columns to efficiently change data types\nfor col in ds_jobs_clean:\n    \n    # Convert integer columns to int32\n    if ds_jobs_clean[col].dtype == 'int':\n        ds_jobs_clean[col] = ds_jobs_clean[col].astype('int32')\n    \n    # Convert float columns to float16\n    elif ds_jobs_clean[col].dtype == 'float':\n        ds_jobs_clean[col] = ds_jobs_clean[col].astype('float16')\n    \n    # Convert columns containing ordered categorical data to ordered categories using dict\n    elif col in ordered_cats.keys():\n        category = pd.CategoricalDtype(ordered_cats[col], ordered=True)\n        ds_jobs_clean[col] = ds_jobs_clean[col].astype(category)\n    \n    # Convert remaining columns to standard categories\n    else:\n        ds_jobs_clean[col] = ds_jobs_clean[col].astype('category')",
    "outputsMetadata": {
     "0": {
      "height": 307,
      "type": "stream"
     }
    }
   },
   "outputs": [
    {
     "name": "stdout",
     "output_type": "stream",
     "text": [
      "<class 'pandas.core.frame.DataFrame'>\n",
      "RangeIndex: 19158 entries, 0 to 19157\n",
      "Data columns (total 14 columns):\n",
      " #   Column                  Non-Null Count  Dtype   \n",
      "---  ------                  --------------  -----   \n",
      " 0   student_id              19158 non-null  category\n",
      " 1   city                    19158 non-null  category\n",
      " 2   city_development_index  19158 non-null  float16 \n",
      " 3   gender                  14650 non-null  category\n",
      " 4   relevant_experience     19158 non-null  category\n",
      " 5   enrolled_university     18772 non-null  category\n",
      " 6   education_level         18698 non-null  category\n",
      " 7   major_discipline        16345 non-null  category\n",
      " 8   experience              19093 non-null  category\n",
      " 9   company_size            13220 non-null  category\n",
      " 10  company_type            13018 non-null  category\n",
      " 11  last_new_job            18735 non-null  category\n",
      " 12  training_hours          19158 non-null  category\n",
      " 13  job_change              19158 non-null  category\n",
      "dtypes: category(13), float16(1)\n",
      "memory usage: 1001.3 KB\n"
     ]
    }
   ],
   "source": [
    "# Loop through DataFrame columns to efficiently change data types\n",
    "for col in ds_jobs_clean:\n",
    "    # Convert integer columns to int32\n",
    "    if ds_jobs_clean[col].dtype == 'int':\n",
    "        ds_jobs_clean[col] = ds_jobs_clean[col].astype('int32')\n",
    "    \n",
    "    # Convert float columns to float16\n",
    "    elif ds_jobs_clean[col].dtype == 'float':\n",
    "        ds_jobs_clean[col] = ds_jobs_clean[col].astype('float16')\n",
    "    \n",
    "    # Convert columns containing ordered categorical data to ordered categories using dict\n",
    "    elif col in ordered_cats.keys():\n",
    "        category = pd.CategoricalDtype(ordered_cats[col], ordered=True)\n",
    "        ds_jobs_clean[col] = ds_jobs_clean[col].astype(category)\n",
    "    \n",
    "    # Convert remaining columns to standard categories\n",
    "    else:\n",
    "        ds_jobs_clean[col] = ds_jobs_clean[col].astype('category')\n",
    "ds_jobs_clean.info()"
   ]
  },
  {
   "cell_type": "code",
   "execution_count": 24,
   "id": "3723e6c2-0656-4492-a3d3-7b8d5ff92d5a",
   "metadata": {
    "executionCancelledAt": null,
    "executionTime": 48,
    "lastExecutedAt": 1703481525378,
    "lastScheduledRunId": null,
    "lastSuccessfullyExecutedCode": "# Filter students with 10 or more years experience at companies with at least 1000 employees\nds_jobs_clean = ds_jobs_clean[(ds_jobs_clean['experience'] >= '10') & (ds_jobs_clean['company_size'] >= '1000-4999')]"
   },
   "outputs": [
    {
     "data": {
      "text/html": [
       "<div>\n",
       "<style scoped>\n",
       "    .dataframe tbody tr th:only-of-type {\n",
       "        vertical-align: middle;\n",
       "    }\n",
       "\n",
       "    .dataframe tbody tr th {\n",
       "        vertical-align: top;\n",
       "    }\n",
       "\n",
       "    .dataframe thead th {\n",
       "        text-align: right;\n",
       "    }\n",
       "</style>\n",
       "<table border=\"1\" class=\"dataframe\">\n",
       "  <thead>\n",
       "    <tr style=\"text-align: right;\">\n",
       "      <th></th>\n",
       "      <th>student_id</th>\n",
       "      <th>city</th>\n",
       "      <th>city_development_index</th>\n",
       "      <th>gender</th>\n",
       "      <th>relevant_experience</th>\n",
       "      <th>enrolled_university</th>\n",
       "      <th>education_level</th>\n",
       "      <th>major_discipline</th>\n",
       "      <th>experience</th>\n",
       "      <th>company_size</th>\n",
       "      <th>company_type</th>\n",
       "      <th>last_new_job</th>\n",
       "      <th>training_hours</th>\n",
       "      <th>job_change</th>\n",
       "    </tr>\n",
       "  </thead>\n",
       "  <tbody>\n",
       "    <tr>\n",
       "      <th>9</th>\n",
       "      <td>699</td>\n",
       "      <td>city_103</td>\n",
       "      <td>0.919922</td>\n",
       "      <td>NaN</td>\n",
       "      <td>Has relevant experience</td>\n",
       "      <td>no_enrollment</td>\n",
       "      <td>Graduate</td>\n",
       "      <td>STEM</td>\n",
       "      <td>17</td>\n",
       "      <td>10000+</td>\n",
       "      <td>Pvt Ltd</td>\n",
       "      <td>&gt;4</td>\n",
       "      <td>123</td>\n",
       "      <td>0</td>\n",
       "    </tr>\n",
       "    <tr>\n",
       "      <th>12</th>\n",
       "      <td>25619</td>\n",
       "      <td>city_61</td>\n",
       "      <td>0.913086</td>\n",
       "      <td>Male</td>\n",
       "      <td>Has relevant experience</td>\n",
       "      <td>no_enrollment</td>\n",
       "      <td>Graduate</td>\n",
       "      <td>STEM</td>\n",
       "      <td>&gt;20</td>\n",
       "      <td>1000-4999</td>\n",
       "      <td>Pvt Ltd</td>\n",
       "      <td>3</td>\n",
       "      <td>23</td>\n",
       "      <td>0</td>\n",
       "    </tr>\n",
       "    <tr>\n",
       "      <th>31</th>\n",
       "      <td>22293</td>\n",
       "      <td>city_103</td>\n",
       "      <td>0.919922</td>\n",
       "      <td>Male</td>\n",
       "      <td>Has relevant experience</td>\n",
       "      <td>Part time course</td>\n",
       "      <td>Graduate</td>\n",
       "      <td>STEM</td>\n",
       "      <td>19</td>\n",
       "      <td>5000-9999</td>\n",
       "      <td>Pvt Ltd</td>\n",
       "      <td>&gt;4</td>\n",
       "      <td>141</td>\n",
       "      <td>0</td>\n",
       "    </tr>\n",
       "    <tr>\n",
       "      <th>34</th>\n",
       "      <td>26494</td>\n",
       "      <td>city_16</td>\n",
       "      <td>0.910156</td>\n",
       "      <td>Male</td>\n",
       "      <td>Has relevant experience</td>\n",
       "      <td>no_enrollment</td>\n",
       "      <td>Graduate</td>\n",
       "      <td>Business Degree</td>\n",
       "      <td>12</td>\n",
       "      <td>5000-9999</td>\n",
       "      <td>Pvt Ltd</td>\n",
       "      <td>3</td>\n",
       "      <td>145</td>\n",
       "      <td>0</td>\n",
       "    </tr>\n",
       "    <tr>\n",
       "      <th>40</th>\n",
       "      <td>2547</td>\n",
       "      <td>city_114</td>\n",
       "      <td>0.925781</td>\n",
       "      <td>Female</td>\n",
       "      <td>Has relevant experience</td>\n",
       "      <td>Full time course</td>\n",
       "      <td>Masters</td>\n",
       "      <td>STEM</td>\n",
       "      <td>16</td>\n",
       "      <td>1000-4999</td>\n",
       "      <td>Public Sector</td>\n",
       "      <td>2</td>\n",
       "      <td>14</td>\n",
       "      <td>0</td>\n",
       "    </tr>\n",
       "  </tbody>\n",
       "</table>\n",
       "</div>"
      ],
      "text/plain": [
       "   student_id      city  city_development_index  gender  \\\n",
       "9         699  city_103                0.919922     NaN   \n",
       "12      25619   city_61                0.913086    Male   \n",
       "31      22293  city_103                0.919922    Male   \n",
       "34      26494   city_16                0.910156    Male   \n",
       "40       2547  city_114                0.925781  Female   \n",
       "\n",
       "        relevant_experience enrolled_university education_level  \\\n",
       "9   Has relevant experience       no_enrollment        Graduate   \n",
       "12  Has relevant experience       no_enrollment        Graduate   \n",
       "31  Has relevant experience    Part time course        Graduate   \n",
       "34  Has relevant experience       no_enrollment        Graduate   \n",
       "40  Has relevant experience    Full time course         Masters   \n",
       "\n",
       "   major_discipline experience company_size   company_type last_new_job  \\\n",
       "9              STEM         17       10000+        Pvt Ltd           >4   \n",
       "12             STEM        >20    1000-4999        Pvt Ltd            3   \n",
       "31             STEM         19    5000-9999        Pvt Ltd           >4   \n",
       "34  Business Degree         12    5000-9999        Pvt Ltd            3   \n",
       "40             STEM         16    1000-4999  Public Sector            2   \n",
       "\n",
       "   training_hours job_change  \n",
       "9             123          0  \n",
       "12             23          0  \n",
       "31            141          0  \n",
       "34            145          0  \n",
       "40             14          0  "
      ]
     },
     "execution_count": 24,
     "metadata": {},
     "output_type": "execute_result"
    }
   ],
   "source": [
    "# Filter students with 10 or more years experience at companies with at least 1000 employees\n",
    "filtered_data = ds_jobs_clean[(ds_jobs_clean['experience'] >= '10') & (ds_jobs_clean['company_size'] >= '1000-4999')]\n",
    "filtered_data .head()"
   ]
  },
  {
   "cell_type": "code",
   "execution_count": 26,
   "id": "71b21d48",
   "metadata": {},
   "outputs": [
    {
     "name": "stdout",
     "output_type": "stream",
     "text": [
      "       city_development_index\n",
      "count             2201.000000\n",
      "mean                 0.875488\n",
      "std                  0.090027\n",
      "min                  0.479004\n",
      "25%                  0.893066\n",
      "50%                  0.919922\n",
      "75%                  0.919922\n",
      "max                  0.949219\n"
     ]
    }
   ],
   "source": [
    "# Display summary statistics for numerical columns\n",
    "numerical_summary = filtered_data.describe()\n",
    "print(numerical_summary)"
   ]
  },
  {
   "cell_type": "code",
   "execution_count": 27,
   "id": "9f45b4dd",
   "metadata": {},
   "outputs": [
    {
     "data": {
      "image/png": "[encoded data removed]",
      "text/plain": [
       "<Figure size 432x288 with 1 Axes>"
      ]
     },
     "metadata": {
      "needs_background": "light"
     },
     "output_type": "display_data"
    }
   ],
   "source": [
    "# Display the distribution of the target variable 'job_change'\n",
    "sns.countplot(x='job_change', data=filtered_data)\n",
    "plt.title('Distribution of Job Change')\n",
    "plt.show()"
   ]
  },
  {
   "cell_type": "code",
   "execution_count": 40,
   "id": "b7885099",
   "metadata": {},
   "outputs": [
    {
     "data": {
      "image/png": "[encoded data removed]",
      "text/plain": [
       "<Figure size 1296x432 with 1 Axes>"
      ]
     },
     "metadata": {
      "needs_background": "light"
     },
     "output_type": "display_data"
    }
   ],
   "source": [
    "# Display the distribution of 'city' values with improved readability and larger figure size\n",
    "plt.figure(figsize=(18, 6))  # Set the figure size\n",
    "\n",
    "sns.countplot(x='city', data=filtered_data, order=filtered_data['city'].value_counts().index)\n",
    "plt.title('Distribution of Cities')\n",
    "plt.xticks(rotation=90, ha='right', fontsize=8)  # Rotate labels for better readability\n",
    "plt.xlabel('City')  # Add xlabel for clarity\n",
    "plt.ylabel('Count')  # Add ylabel for clarity\n",
    "plt.show()"
   ]
  },
  {
   "cell_type": "code",
   "execution_count": 34,
   "id": "87117b60",
   "metadata": {},
   "outputs": [
    {
     "data": {
      "image/png": "[encoded data removed]",
      "text/plain": [
       "<Figure size 432x288 with 1 Axes>"
      ]
     },
     "metadata": {
      "needs_background": "light"
     },
     "output_type": "display_data"
    }
   ],
   "source": [
    "# Display the distribution of 'education_level'\n",
    "sns.countplot(x='education_level', data=filtered_data, order=filtered_data['education_level'].value_counts().index)\n",
    "plt.title('Distribution of Education Levels')\n",
    "plt.xticks(rotation=45)\n",
    "plt.show()"
   ]
  }
 ],
 "metadata": {
  "editor": "DataCamp Workspace",
  "kernelspec": {
   "display_name": "Python 3 (ipykernel)",
   "language": "python",
   "name": "python3"
  },
  "language_info": {
   "codemirror_mode": {
    "name": "ipython",
    "version": 3
   },
   "file_extension": ".py",
   "mimetype": "text/x-python",
   "name": "python",
   "nbconvert_exporter": "python",
   "pygments_lexer": "ipython3",
   "version": "3.8.8"
  }
 },
 "nbformat": 4,
 "nbformat_minor": 5
}
